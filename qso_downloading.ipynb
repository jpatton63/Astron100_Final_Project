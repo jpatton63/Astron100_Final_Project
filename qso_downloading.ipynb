{
 "cells": [
  {
   "cell_type": "code",
   "execution_count": null,
   "metadata": {},
   "outputs": [
    {
     "ename": "InconsistentTableError",
     "evalue": "Number of header columns (1) inconsistent with data columns in data line 2",
     "output_type": "error",
     "traceback": [
      "\u001b[1;31m---------------------------------------------------------------------------\u001b[0m",
      "\u001b[1;31mInconsistentTableError\u001b[0m                    Traceback (most recent call last)",
      "Cell \u001b[1;32mIn[2], line 12\u001b[0m\n\u001b[0;32m      9\u001b[0m os\u001b[38;5;241m.\u001b[39mmakedirs(\u001b[38;5;124m\"\u001b[39m\u001b[38;5;124mqso_spectra\u001b[39m\u001b[38;5;124m\"\u001b[39m, exist_ok\u001b[38;5;241m=\u001b[39m\u001b[38;5;28;01mTrue\u001b[39;00m)\n\u001b[0;32m     11\u001b[0m \u001b[38;5;66;03m# Query: Find 100 QSOs with spectra\u001b[39;00m\n\u001b[1;32m---> 12\u001b[0m qso_query \u001b[38;5;241m=\u001b[39m \u001b[43mSDSS\u001b[49m\u001b[38;5;241;43m.\u001b[39;49m\u001b[43mquery_sql\u001b[49m\u001b[43m(\u001b[49m\u001b[38;5;124;43m\"\"\"\u001b[39;49m\n\u001b[0;32m     13\u001b[0m \u001b[38;5;124;43m    SELECT BOTTOM 5\u001b[39;49m\n\u001b[0;32m     14\u001b[0m \u001b[38;5;124;43m        s.specObjID, s.ra, s.dec, s.plate, s.mjd, s.fiberID, s.z\u001b[39;49m\n\u001b[0;32m     15\u001b[0m \u001b[38;5;124;43m    FROM SpecObj AS s\u001b[39;49m\n\u001b[0;32m     16\u001b[0m \u001b[38;5;124;43m    JOIN PhotoObj AS p ON s.bestObjID = p.objID\u001b[39;49m\n\u001b[0;32m     17\u001b[0m \u001b[38;5;124;43m    WHERE s.class = \u001b[39;49m\u001b[38;5;124;43m'\u001b[39;49m\u001b[38;5;124;43mQSO\u001b[39;49m\u001b[38;5;124;43m'\u001b[39;49m\u001b[38;5;124;43m AND s.z BETWEEN 0.5 AND 3\u001b[39;49m\n\u001b[0;32m     18\u001b[0m \u001b[38;5;124;43m    ORDER BY s.z\u001b[39;49m\n\u001b[0;32m     19\u001b[0m \u001b[38;5;124;43m\"\"\"\u001b[39;49m\u001b[43m)\u001b[49m\n\u001b[0;32m     21\u001b[0m \u001b[38;5;66;03m# Loop through and download spectra\u001b[39;00m\n\u001b[0;32m     22\u001b[0m \u001b[38;5;28;01mfor\u001b[39;00m i, row \u001b[38;5;129;01min\u001b[39;00m \u001b[38;5;28menumerate\u001b[39m(qso_query):\n",
      "File \u001b[1;32mc:\\Users\\jimmy\\AppData\\Local\\Programs\\Python\\Python311\\Lib\\site-packages\\astroquery\\utils\\class_or_instance.py:25\u001b[0m, in \u001b[0;36mclass_or_instance.__get__.<locals>.f\u001b[1;34m(*args, **kwds)\u001b[0m\n\u001b[0;32m     23\u001b[0m \u001b[38;5;28;01mdef\u001b[39;00m \u001b[38;5;21mf\u001b[39m(\u001b[38;5;241m*\u001b[39margs, \u001b[38;5;241m*\u001b[39m\u001b[38;5;241m*\u001b[39mkwds):\n\u001b[0;32m     24\u001b[0m     \u001b[38;5;28;01mif\u001b[39;00m obj \u001b[38;5;129;01mis\u001b[39;00m \u001b[38;5;129;01mnot\u001b[39;00m \u001b[38;5;28;01mNone\u001b[39;00m:\n\u001b[1;32m---> 25\u001b[0m         \u001b[38;5;28;01mreturn\u001b[39;00m \u001b[38;5;28;43mself\u001b[39;49m\u001b[38;5;241;43m.\u001b[39;49m\u001b[43mfn\u001b[49m\u001b[43m(\u001b[49m\u001b[43mobj\u001b[49m\u001b[43m,\u001b[49m\u001b[43m \u001b[49m\u001b[38;5;241;43m*\u001b[39;49m\u001b[43margs\u001b[49m\u001b[43m,\u001b[49m\u001b[43m \u001b[49m\u001b[38;5;241;43m*\u001b[39;49m\u001b[38;5;241;43m*\u001b[39;49m\u001b[43mkwds\u001b[49m\u001b[43m)\u001b[49m\n\u001b[0;32m     26\u001b[0m     \u001b[38;5;28;01melse\u001b[39;00m:\n\u001b[0;32m     27\u001b[0m         \u001b[38;5;28;01mreturn\u001b[39;00m \u001b[38;5;28mself\u001b[39m\u001b[38;5;241m.\u001b[39mfn(\u001b[38;5;28mcls\u001b[39m, \u001b[38;5;241m*\u001b[39margs, \u001b[38;5;241m*\u001b[39m\u001b[38;5;241m*\u001b[39mkwds)\n",
      "File \u001b[1;32mc:\\Users\\jimmy\\AppData\\Local\\Programs\\Python\\Python311\\Lib\\site-packages\\astroquery\\utils\\process_asyncs.py:29\u001b[0m, in \u001b[0;36masync_to_sync.<locals>.create_method.<locals>.newmethod\u001b[1;34m(self, *args, **kwargs)\u001b[0m\n\u001b[0;32m     27\u001b[0m \u001b[38;5;28;01mif\u001b[39;00m kwargs\u001b[38;5;241m.\u001b[39mget(\u001b[38;5;124m'\u001b[39m\u001b[38;5;124mget_query_payload\u001b[39m\u001b[38;5;124m'\u001b[39m) \u001b[38;5;129;01mor\u001b[39;00m kwargs\u001b[38;5;241m.\u001b[39mget(\u001b[38;5;124m'\u001b[39m\u001b[38;5;124mfield_help\u001b[39m\u001b[38;5;124m'\u001b[39m):\n\u001b[0;32m     28\u001b[0m     \u001b[38;5;28;01mreturn\u001b[39;00m response\n\u001b[1;32m---> 29\u001b[0m result \u001b[38;5;241m=\u001b[39m \u001b[38;5;28;43mself\u001b[39;49m\u001b[38;5;241;43m.\u001b[39;49m\u001b[43m_parse_result\u001b[49m\u001b[43m(\u001b[49m\u001b[43mresponse\u001b[49m\u001b[43m,\u001b[49m\u001b[43m \u001b[49m\u001b[43mverbose\u001b[49m\u001b[38;5;241;43m=\u001b[39;49m\u001b[43mverbose\u001b[49m\u001b[43m)\u001b[49m\n\u001b[0;32m     30\u001b[0m \u001b[38;5;28mself\u001b[39m\u001b[38;5;241m.\u001b[39mtable \u001b[38;5;241m=\u001b[39m result\n\u001b[0;32m     31\u001b[0m \u001b[38;5;28;01mreturn\u001b[39;00m result\n",
      "File \u001b[1;32mc:\\Users\\jimmy\\AppData\\Local\\Programs\\Python\\Python311\\Lib\\site-packages\\astroquery\\sdss\\core.py:1049\u001b[0m, in \u001b[0;36mSDSSClass._parse_result\u001b[1;34m(self, response, verbose)\u001b[0m\n\u001b[0;32m   1046\u001b[0m \u001b[38;5;28;01mif\u001b[39;00m sys\u001b[38;5;241m.\u001b[39mplatform\u001b[38;5;241m.\u001b[39mstartswith(\u001b[38;5;124m'\u001b[39m\u001b[38;5;124mwin\u001b[39m\u001b[38;5;124m'\u001b[39m):\n\u001b[0;32m   1047\u001b[0m     warnings\u001b[38;5;241m.\u001b[39mfilterwarnings(\u001b[38;5;124m\"\u001b[39m\u001b[38;5;124mignore\u001b[39m\u001b[38;5;124m\"\u001b[39m, category\u001b[38;5;241m=\u001b[39mAstropyWarning,\n\u001b[0;32m   1048\u001b[0m                             message\u001b[38;5;241m=\u001b[39m\u001b[38;5;124mr\u001b[39m\u001b[38;5;124m'\u001b[39m\u001b[38;5;124mOverflowError converting to IntType in column.*\u001b[39m\u001b[38;5;124m'\u001b[39m)\n\u001b[1;32m-> 1049\u001b[0m arr \u001b[38;5;241m=\u001b[39m \u001b[43mTable\u001b[49m\u001b[38;5;241;43m.\u001b[39;49m\u001b[43mread\u001b[49m\u001b[43m(\u001b[49m\u001b[43mresponse\u001b[49m\u001b[38;5;241;43m.\u001b[39;49m\u001b[43mtext\u001b[49m\u001b[43m,\u001b[49m\u001b[43m \u001b[49m\u001b[38;5;28;43mformat\u001b[39;49m\u001b[38;5;241;43m=\u001b[39;49m\u001b[38;5;124;43m'\u001b[39;49m\u001b[38;5;124;43mascii.csv\u001b[39;49m\u001b[38;5;124;43m'\u001b[39;49m\u001b[43m,\u001b[49m\u001b[43m \u001b[49m\u001b[43mcomment\u001b[49m\u001b[38;5;241;43m=\u001b[39;49m\u001b[38;5;124;43m\"\u001b[39;49m\u001b[38;5;124;43m#\u001b[39;49m\u001b[38;5;124;43m\"\u001b[39;49m\u001b[43m)\u001b[49m\n\u001b[0;32m   1050\u001b[0m \u001b[38;5;28;01mfor\u001b[39;00m id_column \u001b[38;5;129;01min\u001b[39;00m (\u001b[38;5;124m'\u001b[39m\u001b[38;5;124mobjid\u001b[39m\u001b[38;5;124m'\u001b[39m, \u001b[38;5;124m'\u001b[39m\u001b[38;5;124mspecobjid\u001b[39m\u001b[38;5;124m'\u001b[39m, \u001b[38;5;124m'\u001b[39m\u001b[38;5;124mobjID\u001b[39m\u001b[38;5;124m'\u001b[39m, \u001b[38;5;124m'\u001b[39m\u001b[38;5;124mspecobjID\u001b[39m\u001b[38;5;124m'\u001b[39m, \u001b[38;5;124m'\u001b[39m\u001b[38;5;124mspecObjID\u001b[39m\u001b[38;5;124m'\u001b[39m):\n\u001b[0;32m   1051\u001b[0m     \u001b[38;5;28;01mif\u001b[39;00m id_column \u001b[38;5;129;01min\u001b[39;00m arr\u001b[38;5;241m.\u001b[39mcolumns:\n",
      "File \u001b[1;32mc:\\Users\\jimmy\\AppData\\Local\\Programs\\Python\\Python311\\Lib\\site-packages\\astropy\\table\\connect.py:62\u001b[0m, in \u001b[0;36mTableRead.__call__\u001b[1;34m(self, *args, **kwargs)\u001b[0m\n\u001b[0;32m     59\u001b[0m units \u001b[38;5;241m=\u001b[39m kwargs\u001b[38;5;241m.\u001b[39mpop(\u001b[38;5;124m\"\u001b[39m\u001b[38;5;124munits\u001b[39m\u001b[38;5;124m\"\u001b[39m, \u001b[38;5;28;01mNone\u001b[39;00m)\n\u001b[0;32m     60\u001b[0m descriptions \u001b[38;5;241m=\u001b[39m kwargs\u001b[38;5;241m.\u001b[39mpop(\u001b[38;5;124m\"\u001b[39m\u001b[38;5;124mdescriptions\u001b[39m\u001b[38;5;124m\"\u001b[39m, \u001b[38;5;28;01mNone\u001b[39;00m)\n\u001b[1;32m---> 62\u001b[0m out \u001b[38;5;241m=\u001b[39m \u001b[38;5;28;43mself\u001b[39;49m\u001b[38;5;241;43m.\u001b[39;49m\u001b[43mregistry\u001b[49m\u001b[38;5;241;43m.\u001b[39;49m\u001b[43mread\u001b[49m\u001b[43m(\u001b[49m\u001b[38;5;28;43mcls\u001b[39;49m\u001b[43m,\u001b[49m\u001b[43m \u001b[49m\u001b[38;5;241;43m*\u001b[39;49m\u001b[43margs\u001b[49m\u001b[43m,\u001b[49m\u001b[43m \u001b[49m\u001b[38;5;241;43m*\u001b[39;49m\u001b[38;5;241;43m*\u001b[39;49m\u001b[43mkwargs\u001b[49m\u001b[43m)\u001b[49m\n\u001b[0;32m     64\u001b[0m \u001b[38;5;66;03m# For some readers (e.g., ascii.ecsv), the returned `out` class is not\u001b[39;00m\n\u001b[0;32m     65\u001b[0m \u001b[38;5;66;03m# guaranteed to be the same as the desired output `cls`.  If so,\u001b[39;00m\n\u001b[0;32m     66\u001b[0m \u001b[38;5;66;03m# try coercing to desired class without copying (io.registry.read\u001b[39;00m\n\u001b[0;32m     67\u001b[0m \u001b[38;5;66;03m# would normally do a copy).  The normal case here is swapping\u001b[39;00m\n\u001b[0;32m     68\u001b[0m \u001b[38;5;66;03m# Table <=> QTable.\u001b[39;00m\n\u001b[0;32m     69\u001b[0m \u001b[38;5;28;01mif\u001b[39;00m \u001b[38;5;28mcls\u001b[39m \u001b[38;5;129;01mis\u001b[39;00m \u001b[38;5;129;01mnot\u001b[39;00m out\u001b[38;5;241m.\u001b[39m\u001b[38;5;18m__class__\u001b[39m:\n",
      "File \u001b[1;32mc:\\Users\\jimmy\\AppData\\Local\\Programs\\Python\\Python311\\Lib\\site-packages\\astropy\\io\\registry\\core.py:221\u001b[0m, in \u001b[0;36mUnifiedInputRegistry.read\u001b[1;34m(self, cls, format, cache, *args, **kwargs)\u001b[0m\n\u001b[0;32m    218\u001b[0m         kwargs\u001b[38;5;241m.\u001b[39mupdate({\u001b[38;5;124m\"\u001b[39m\u001b[38;5;124mfilename\u001b[39m\u001b[38;5;124m\"\u001b[39m: path})\n\u001b[0;32m    220\u001b[0m reader \u001b[38;5;241m=\u001b[39m \u001b[38;5;28mself\u001b[39m\u001b[38;5;241m.\u001b[39mget_reader(\u001b[38;5;28mformat\u001b[39m, \u001b[38;5;28mcls\u001b[39m)\n\u001b[1;32m--> 221\u001b[0m data \u001b[38;5;241m=\u001b[39m \u001b[43mreader\u001b[49m\u001b[43m(\u001b[49m\u001b[38;5;241;43m*\u001b[39;49m\u001b[43margs\u001b[49m\u001b[43m,\u001b[49m\u001b[43m \u001b[49m\u001b[38;5;241;43m*\u001b[39;49m\u001b[38;5;241;43m*\u001b[39;49m\u001b[43mkwargs\u001b[49m\u001b[43m)\u001b[49m\n\u001b[0;32m    223\u001b[0m \u001b[38;5;28;01mif\u001b[39;00m \u001b[38;5;129;01mnot\u001b[39;00m \u001b[38;5;28misinstance\u001b[39m(data, \u001b[38;5;28mcls\u001b[39m):\n\u001b[0;32m    224\u001b[0m     \u001b[38;5;66;03m# User has read with a subclass where only the parent class is\u001b[39;00m\n\u001b[0;32m    225\u001b[0m     \u001b[38;5;66;03m# registered.  This returns the parent class, so try coercing\u001b[39;00m\n\u001b[0;32m    226\u001b[0m     \u001b[38;5;66;03m# to desired subclass.\u001b[39;00m\n\u001b[0;32m    227\u001b[0m     \u001b[38;5;28;01mtry\u001b[39;00m:\n",
      "File \u001b[1;32mc:\\Users\\jimmy\\AppData\\Local\\Programs\\Python\\Python311\\Lib\\site-packages\\astropy\\io\\ascii\\connect.py:19\u001b[0m, in \u001b[0;36mio_read\u001b[1;34m(format, filename, **kwargs)\u001b[0m\n\u001b[0;32m     17\u001b[0m     \u001b[38;5;28mformat\u001b[39m \u001b[38;5;241m=\u001b[39m re\u001b[38;5;241m.\u001b[39msub(\u001b[38;5;124mr\u001b[39m\u001b[38;5;124m\"\u001b[39m\u001b[38;5;124m^ascii\u001b[39m\u001b[38;5;124m\\\u001b[39m\u001b[38;5;124m.\u001b[39m\u001b[38;5;124m\"\u001b[39m, \u001b[38;5;124m\"\u001b[39m\u001b[38;5;124m\"\u001b[39m, \u001b[38;5;28mformat\u001b[39m)\n\u001b[0;32m     18\u001b[0m     kwargs[\u001b[38;5;124m\"\u001b[39m\u001b[38;5;124mformat\u001b[39m\u001b[38;5;124m\"\u001b[39m] \u001b[38;5;241m=\u001b[39m \u001b[38;5;28mformat\u001b[39m\n\u001b[1;32m---> 19\u001b[0m \u001b[38;5;28;01mreturn\u001b[39;00m \u001b[43mread\u001b[49m\u001b[43m(\u001b[49m\u001b[43mfilename\u001b[49m\u001b[43m,\u001b[49m\u001b[43m \u001b[49m\u001b[38;5;241;43m*\u001b[39;49m\u001b[38;5;241;43m*\u001b[39;49m\u001b[43mkwargs\u001b[49m\u001b[43m)\u001b[49m\n",
      "File \u001b[1;32mc:\\Users\\jimmy\\AppData\\Local\\Programs\\Python\\Python311\\Lib\\site-packages\\astropy\\io\\ascii\\ui.py:456\u001b[0m, in \u001b[0;36mread\u001b[1;34m(table, guess, **kwargs)\u001b[0m\n\u001b[0;32m    454\u001b[0m fast_reader_rdr \u001b[38;5;241m=\u001b[39m get_reader(\u001b[38;5;241m*\u001b[39m\u001b[38;5;241m*\u001b[39mfast_kwargs)\n\u001b[0;32m    455\u001b[0m \u001b[38;5;28;01mtry\u001b[39;00m:\n\u001b[1;32m--> 456\u001b[0m     dat \u001b[38;5;241m=\u001b[39m \u001b[43mfast_reader_rdr\u001b[49m\u001b[38;5;241;43m.\u001b[39;49m\u001b[43mread\u001b[49m\u001b[43m(\u001b[49m\u001b[43mtable\u001b[49m\u001b[43m)\u001b[49m\n\u001b[0;32m    457\u001b[0m     _read_trace\u001b[38;5;241m.\u001b[39mappend(\n\u001b[0;32m    458\u001b[0m         {\n\u001b[0;32m    459\u001b[0m             \u001b[38;5;124m\"\u001b[39m\u001b[38;5;124mkwargs\u001b[39m\u001b[38;5;124m\"\u001b[39m: copy\u001b[38;5;241m.\u001b[39mdeepcopy(fast_kwargs),\n\u001b[1;32m   (...)\u001b[0m\n\u001b[0;32m    462\u001b[0m         }\n\u001b[0;32m    463\u001b[0m     )\n\u001b[0;32m    464\u001b[0m \u001b[38;5;28;01mexcept\u001b[39;00m (\n\u001b[0;32m    465\u001b[0m     core\u001b[38;5;241m.\u001b[39mParameterError,\n\u001b[0;32m    466\u001b[0m     cparser\u001b[38;5;241m.\u001b[39mCParserError,\n\u001b[0;32m    467\u001b[0m     \u001b[38;5;167;01mUnicodeEncodeError\u001b[39;00m,\n\u001b[0;32m    468\u001b[0m ) \u001b[38;5;28;01mas\u001b[39;00m err:\n\u001b[0;32m    469\u001b[0m     \u001b[38;5;66;03m# special testing value to avoid falling back on the slow reader\u001b[39;00m\n",
      "File \u001b[1;32mc:\\Users\\jimmy\\AppData\\Local\\Programs\\Python\\Python311\\Lib\\site-packages\\astropy\\io\\ascii\\fastbasic.py:152\u001b[0m, in \u001b[0;36mFastBasic.read\u001b[1;34m(self, table)\u001b[0m\n\u001b[0;32m    149\u001b[0m     try_string \u001b[38;5;241m=\u001b[39m {}\n\u001b[0;32m    151\u001b[0m \u001b[38;5;28;01mwith\u001b[39;00m _set_locale(\u001b[38;5;124m\"\u001b[39m\u001b[38;5;124mC\u001b[39m\u001b[38;5;124m\"\u001b[39m):\n\u001b[1;32m--> 152\u001b[0m     data, comments \u001b[38;5;241m=\u001b[39m \u001b[38;5;28;43mself\u001b[39;49m\u001b[38;5;241;43m.\u001b[39;49m\u001b[43mengine\u001b[49m\u001b[38;5;241;43m.\u001b[39;49m\u001b[43mread\u001b[49m\u001b[43m(\u001b[49m\u001b[43mtry_int\u001b[49m\u001b[43m,\u001b[49m\u001b[43m \u001b[49m\u001b[43mtry_float\u001b[49m\u001b[43m,\u001b[49m\u001b[43m \u001b[49m\u001b[43mtry_string\u001b[49m\u001b[43m)\u001b[49m\n\u001b[0;32m    153\u001b[0m out \u001b[38;5;241m=\u001b[39m \u001b[38;5;28mself\u001b[39m\u001b[38;5;241m.\u001b[39mmake_table(data, comments)\n\u001b[0;32m    155\u001b[0m \u001b[38;5;28;01mif\u001b[39;00m \u001b[38;5;28mself\u001b[39m\u001b[38;5;241m.\u001b[39mreturn_header_chars:\n",
      "File \u001b[1;32mc:\\Users\\jimmy\\AppData\\Local\\Programs\\Python\\Python311\\Lib\\site-packages\\astropy\\io\\ascii\\cparser.pyx:392\u001b[0m, in \u001b[0;36mastropy.io.ascii.cparser.CParser.read\u001b[1;34m()\u001b[0m\n",
      "\u001b[1;31mInconsistentTableError\u001b[0m: Number of header columns (1) inconsistent with data columns in data line 2"
     ]
    }
   ],
   "source": [
    "from astroquery.sdss import SDSS\n",
    "from astropy import coordinates as coords\n",
    "import astropy.units as u\n",
    "import numpy as np\n",
    "from astropy.io import fits\n",
    "import os\n",
    "\n",
    "os.makedirs(\"qso_spectra\", exist_ok=True)\n",
    "\n",
    "qso_query = SDSS.query_sql(\"\"\"\n",
    "    SELECT TOP 5\n",
    "        s.specObjID, s.ra, s.dec, s.plate, s.mjd, s.fiberID, s.z\n",
    "    FROM SpecObj AS s\n",
    "    JOIN PhotoObj AS p ON s.bestObjID = p.objID\n",
    "    WHERE s.class = 'QSO' AND s.z BETWEEN 0.5 AND 3\n",
    "    ORDER BY s.z\n",
    "\"\"\")\n",
    "\n",
    "for i, row in enumerate(qso_query):\n",
    "    plate = row['plate']\n",
    "    mjd = row['mjd']\n",
    "    fiberID = row['fiberID']\n",
    "    z = row['z']\n",
    "\n",
    "    print(f\"Downloading QSO {i+1}/100 — z = {z:.2f}\")\n",
    "    \n",
    "    try:\n",
    "        sp = SDSS.get_spectra(plate=plate, mjd=mjd, fiberID=fiberID)\n",
    "        if sp:\n",
    "            fname = f\"qso_spectra/qso_{i:03d}_z{z:.2f}.fits\"\n",
    "            sp[0].writeto(fname, overwrite=True)\n",
    "    except Exception as e:\n",
    "        print(f\"Failed to download spectrum {i}: {e}\")\n"
   ]
  },
  {
   "cell_type": "code",
   "execution_count": null,
   "metadata": {},
   "outputs": [
    {
     "name": "stdout",
     "output_type": "stream",
     "text": [
      "Downloading Bottom QSO 1/5 — z = 3.00\n",
      "Downloading Bottom QSO 2/5 — z = 3.00\n",
      "Downloading Bottom QSO 3/5 — z = 3.00\n",
      "Downloading Bottom QSO 4/5 — z = 3.00\n",
      "Downloading Bottom QSO 5/5 — z = 3.00\n"
     ]
    }
   ],
   "source": [
    "from astroquery.sdss import SDSS\n",
    "from astropy.io import fits\n",
    "import os\n",
    "\n",
    "os.makedirs(\"qso_bottom5\", exist_ok=True)\n",
    "\n",
    "qso_query = SDSS.query_sql(\"\"\"\n",
    "    SELECT TOP 5\n",
    "        s.specObjID, s.ra, s.dec, s.plate, s.mjd, s.fiberID, s.z\n",
    "    FROM SpecObj AS s\n",
    "    JOIN PhotoObj AS p ON s.bestObjID = p.objID\n",
    "    WHERE s.class = 'QSO' AND s.z BETWEEN 0.5 AND 3\n",
    "    ORDER BY s.z DESC\n",
    "\"\"\")\n",
    "\n",
    "for i, row in enumerate(qso_query):\n",
    "    plate = row['plate']\n",
    "    mjd = row['mjd']\n",
    "    fiberID = row['fiberID']\n",
    "    z = row['z']\n",
    "\n",
    "    print(f\"Downloading Bottom QSO {i+1}/5 — z = {z:.2f}\")\n",
    "    \n",
    "    try:\n",
    "        sp = SDSS.get_spectra(plate=plate, mjd=mjd, fiberID=fiberID)\n",
    "        if sp:\n",
    "            fname = f\"qso_bottom5/bottom_qso_{i:03d}_z{z:.2f}.fits\"\n",
    "            sp[0].writeto(fname, overwrite=True)\n",
    "    except Exception as e:\n",
    "        print(f\"Failed to download bottom spectrum {i}: {e}\")\n"
   ]
  },
  {
   "cell_type": "code",
   "execution_count": null,
   "metadata": {},
   "outputs": [
    {
     "name": "stdout",
     "output_type": "stream",
     "text": [
      "No BL Lac candidates found with the current query.\n"
     ]
    }
   ],
   "source": [
    "from astroquery.sdss import SDSS\n",
    "from astropy.io import fits\n",
    "import os\n",
    "\n",
    "os.makedirs(\"bllac_candidates\", exist_ok=True)\n",
    "\n",
    "bllac_query = SDSS.query_sql(\"\"\"\n",
    "    SELECT TOP 5\n",
    "        s.specObjID, s.ra, s.dec, s.plate, s.mjd, s.fiberID, s.z\n",
    "    FROM SpecObj AS s\n",
    "    WHERE (s.bossPrimary = 1)\n",
    "      AND (s.zWarning = 0)\n",
    "      AND (s.class = 'QSO')\n",
    "      AND (s.subClass = 'BROADLINE')\n",
    "      AND (s.snMedian > 5)\n",
    "      AND (s.programName LIKE '%bllac%')\n",
    "\"\"\")\n",
    "\n",
    "if bllac_query is None or len(bllac_query) == 0:\n",
    "    print(\"No BL Lac candidates found with the current query.\")\n",
    "else:\n",
    "    for i, row in enumerate(bllac_query):\n",
    "        plate = row['plate']\n",
    "        mjd = row['mjd']\n",
    "        fiberID = row['fiberID']\n",
    "        z = row['z']\n",
    "\n",
    "        print(f\"Downloading BL Lac Candidate {i+1} — z = {z:.2f}\")\n",
    "        \n",
    "        try:\n",
    "            sp = SDSS.get_spectra(plate=plate, mjd=mjd, fiberID=fiberID)\n",
    "            if sp:\n",
    "                fname = f\"bllac_candidates/bllac_candidate_{i:03d}_z{z:.2f}.fits\"\n",
    "                sp[0].writeto(fname, overwrite=True)\n",
    "        except Exception as e:\n",
    "            print(f\"Failed to download spectrum {i}: {e}\")\n"
   ]
  },
  {
   "cell_type": "code",
   "execution_count": 10,
   "metadata": {},
   "outputs": [
    {
     "name": "stdout",
     "output_type": "stream",
     "text": [
      "Requirement already satisfied: astroquery in c:\\users\\jimmy\\appdata\\local\\programs\\python\\python311\\lib\\site-packages (0.4.7)\n",
      "Requirement already satisfied: astropy in c:\\users\\jimmy\\appdata\\local\\programs\\python\\python311\\lib\\site-packages (7.0.1)\n",
      "Requirement already satisfied: numpy>=1.18 in c:\\users\\jimmy\\appdata\\local\\programs\\python\\python311\\lib\\site-packages (from astroquery) (1.24.2)\n",
      "Requirement already satisfied: requests>=2.19 in c:\\users\\jimmy\\appdata\\local\\programs\\python\\python311\\lib\\site-packages (from astroquery) (2.31.0)\n",
      "Requirement already satisfied: beautifulsoup4>=4.8 in c:\\users\\jimmy\\appdata\\local\\programs\\python\\python311\\lib\\site-packages (from astroquery) (4.12.3)\n",
      "Requirement already satisfied: html5lib>=0.999 in c:\\users\\jimmy\\appdata\\local\\programs\\python\\python311\\lib\\site-packages (from astroquery) (1.1)\n",
      "Requirement already satisfied: keyring>=15.0 in c:\\users\\jimmy\\appdata\\local\\programs\\python\\python311\\lib\\site-packages (from astroquery) (25.1.0)\n",
      "Requirement already satisfied: pyvo>=1.1 in c:\\users\\jimmy\\appdata\\local\\programs\\python\\python311\\lib\\site-packages (from astroquery) (1.5.1)\n",
      "Requirement already satisfied: pyerfa>=2.0.1.1 in c:\\users\\jimmy\\appdata\\local\\programs\\python\\python311\\lib\\site-packages (from astropy) (2.0.1.4)\n",
      "Requirement already satisfied: astropy-iers-data>=0.2025.1.31.12.41.4 in c:\\users\\jimmy\\appdata\\local\\programs\\python\\python311\\lib\\site-packages (from astropy) (0.2025.3.24.0.35.32)\n",
      "Requirement already satisfied: PyYAML>=6.0.0 in c:\\users\\jimmy\\appdata\\local\\programs\\python\\python311\\lib\\site-packages (from astropy) (6.0.1)\n",
      "Requirement already satisfied: packaging>=22.0.0 in c:\\users\\jimmy\\appdata\\roaming\\python\\python311\\site-packages (from astropy) (23.2)\n",
      "Requirement already satisfied: soupsieve>1.2 in c:\\users\\jimmy\\appdata\\local\\programs\\python\\python311\\lib\\site-packages (from beautifulsoup4>=4.8->astroquery) (2.5)\n",
      "Requirement already satisfied: six>=1.9 in c:\\users\\jimmy\\appdata\\roaming\\python\\python311\\site-packages (from html5lib>=0.999->astroquery) (1.16.0)\n",
      "Requirement already satisfied: webencodings in c:\\users\\jimmy\\appdata\\local\\programs\\python\\python311\\lib\\site-packages (from html5lib>=0.999->astroquery) (0.5.1)\n",
      "Requirement already satisfied: jaraco.classes in c:\\users\\jimmy\\appdata\\local\\programs\\python\\python311\\lib\\site-packages (from keyring>=15.0->astroquery) (3.4.0)\n",
      "Requirement already satisfied: jaraco.functools in c:\\users\\jimmy\\appdata\\local\\programs\\python\\python311\\lib\\site-packages (from keyring>=15.0->astroquery) (4.0.1)\n",
      "Requirement already satisfied: jaraco.context in c:\\users\\jimmy\\appdata\\local\\programs\\python\\python311\\lib\\site-packages (from keyring>=15.0->astroquery) (5.3.0)\n",
      "Requirement already satisfied: importlib-metadata>=4.11.4 in c:\\users\\jimmy\\appdata\\local\\programs\\python\\python311\\lib\\site-packages (from keyring>=15.0->astroquery) (7.1.0)\n",
      "Requirement already satisfied: pywin32-ctypes>=0.2.0 in c:\\users\\jimmy\\appdata\\local\\programs\\python\\python311\\lib\\site-packages (from keyring>=15.0->astroquery) (0.2.2)\n",
      "Requirement already satisfied: charset-normalizer<4,>=2 in c:\\users\\jimmy\\appdata\\local\\programs\\python\\python311\\lib\\site-packages (from requests>=2.19->astroquery) (3.3.2)\n",
      "Requirement already satisfied: idna<4,>=2.5 in c:\\users\\jimmy\\appdata\\local\\programs\\python\\python311\\lib\\site-packages (from requests>=2.19->astroquery) (3.7)\n",
      "Requirement already satisfied: urllib3<3,>=1.21.1 in c:\\users\\jimmy\\appdata\\local\\programs\\python\\python311\\lib\\site-packages (from requests>=2.19->astroquery) (2.2.1)\n",
      "Requirement already satisfied: certifi>=2017.4.17 in c:\\users\\jimmy\\appdata\\local\\programs\\python\\python311\\lib\\site-packages (from requests>=2.19->astroquery) (2024.2.2)\n",
      "Requirement already satisfied: zipp>=0.5 in c:\\users\\jimmy\\appdata\\local\\programs\\python\\python311\\lib\\site-packages (from importlib-metadata>=4.11.4->keyring>=15.0->astroquery) (3.18.1)\n",
      "Requirement already satisfied: more-itertools in c:\\users\\jimmy\\appdata\\local\\programs\\python\\python311\\lib\\site-packages (from jaraco.classes->keyring>=15.0->astroquery) (10.2.0)\n",
      "Requirement already satisfied: backports.tarfile in c:\\users\\jimmy\\appdata\\local\\programs\\python\\python311\\lib\\site-packages (from jaraco.context->keyring>=15.0->astroquery) (1.1.0)\n"
     ]
    },
    {
     "name": "stderr",
     "output_type": "stream",
     "text": [
      "\n",
      "[notice] A new release of pip is available: 24.3.1 -> 25.0.1\n",
      "[notice] To update, run: python.exe -m pip install --upgrade pip\n"
     ]
    }
   ],
   "source": [
    "!pip install astroquery astropy\n"
   ]
  },
  {
   "cell_type": "code",
   "execution_count": null,
   "metadata": {},
   "outputs": [
    {
     "ename": "ImportError",
     "evalue": "cannot import name 'Spectra' from 'astroquery.sdss' (c:\\Users\\jimmy\\AppData\\Local\\Programs\\Python\\Python311\\Lib\\site-packages\\astroquery\\sdss\\__init__.py)",
     "output_type": "error",
     "traceback": [
      "\u001b[1;31m---------------------------------------------------------------------------\u001b[0m",
      "\u001b[1;31mImportError\u001b[0m                               Traceback (most recent call last)",
      "Cell \u001b[1;32mIn[16], line 2\u001b[0m\n\u001b[0;32m      1\u001b[0m \u001b[38;5;28;01mfrom\u001b[39;00m \u001b[38;5;21;01mastroquery\u001b[39;00m\u001b[38;5;21;01m.\u001b[39;00m\u001b[38;5;21;01msdss\u001b[39;00m \u001b[38;5;28;01mimport\u001b[39;00m SDSS\n\u001b[1;32m----> 2\u001b[0m \u001b[38;5;28;01mfrom\u001b[39;00m \u001b[38;5;21;01mastroquery\u001b[39;00m\u001b[38;5;21;01m.\u001b[39;00m\u001b[38;5;21;01msdss\u001b[39;00m \u001b[38;5;28;01mimport\u001b[39;00m Spectra\n\u001b[0;32m      3\u001b[0m \u001b[38;5;28;01mfrom\u001b[39;00m \u001b[38;5;21;01mastropy\u001b[39;00m\u001b[38;5;21;01m.\u001b[39;00m\u001b[38;5;21;01mio\u001b[39;00m \u001b[38;5;28;01mimport\u001b[39;00m fits\n\u001b[0;32m      5\u001b[0m \u001b[38;5;66;03m# SpecObjID for the spectrum\u001b[39;00m\n",
      "\u001b[1;31mImportError\u001b[0m: cannot import name 'Spectra' from 'astroquery.sdss' (c:\\Users\\jimmy\\AppData\\Local\\Programs\\Python\\Python311\\Lib\\site-packages\\astroquery\\sdss\\__init__.py)"
     ]
    }
   ],
   "source": [
    "from astroquery.sdss import SDSS\n",
    "from astroquery.sdss import Spectra\n",
    "from astropy.io import fits\n",
    "\n",
    "specobj_id = 119568270415101952\n",
    "\n",
    "spectrum = SDSS.get_spectra(specobjID=specobj_id)\n",
    "\n",
    "spectrum_data = spectrum[0][1].data\n",
    "\n",
    "output_filename = \"spec_119568270415101952.fits\"\n",
    "fits.writeto(output_filename, spectrum_data, overwrite=True)\n",
    "\n",
    "print(f\"Spectrum saved to {output_filename}\")\n"
   ]
  },
  {
   "cell_type": "code",
   "execution_count": null,
   "metadata": {},
   "outputs": [
    {
     "name": "stderr",
     "output_type": "stream",
     "text": [
      "WARNING: InputWarning: Coordinate string is being interpreted as an ICRS coordinate. [astroquery.utils.commons]\n"
     ]
    },
    {
     "ename": "UnitsError",
     "evalue": "No unit specified",
     "output_type": "error",
     "traceback": [
      "\u001b[1;31m---------------------------------------------------------------------------\u001b[0m",
      "\u001b[1;31mUnitsError\u001b[0m                                Traceback (most recent call last)",
      "Cell \u001b[1;32mIn[17], line 7\u001b[0m\n\u001b[0;32m      4\u001b[0m viz \u001b[38;5;241m=\u001b[39m Vizier(columns\u001b[38;5;241m=\u001b[39m[\u001b[38;5;124m\"\u001b[39m\u001b[38;5;124mRAJ2000\u001b[39m\u001b[38;5;124m\"\u001b[39m, \u001b[38;5;124m\"\u001b[39m\u001b[38;5;124mDEJ2000\u001b[39m\u001b[38;5;124m\"\u001b[39m, \u001b[38;5;124m\"\u001b[39m\u001b[38;5;124mID\u001b[39m\u001b[38;5;124m\"\u001b[39m, \u001b[38;5;124m\"\u001b[39m\u001b[38;5;124mz\u001b[39m\u001b[38;5;124m\"\u001b[39m, \u001b[38;5;124m\"\u001b[39m\u001b[38;5;124mflux\u001b[39m\u001b[38;5;124m\"\u001b[39m, \u001b[38;5;124m\"\u001b[39m\u001b[38;5;124mfluxErr\u001b[39m\u001b[38;5;124m\"\u001b[39m])\n\u001b[0;32m      6\u001b[0m \u001b[38;5;66;03m# Query the catalog for an object (e.g., SDSS object by coordinates)\u001b[39;00m\n\u001b[1;32m----> 7\u001b[0m result \u001b[38;5;241m=\u001b[39m \u001b[43mviz\u001b[49m\u001b[38;5;241;43m.\u001b[39;49m\u001b[43mquery_region\u001b[49m\u001b[43m(\u001b[49m\u001b[38;5;124;43m\"\u001b[39;49m\u001b[38;5;124;43m20h36m02.00s +15d10m00.00s\u001b[39;49m\u001b[38;5;124;43m\"\u001b[39;49m\u001b[43m,\u001b[49m\u001b[43m \u001b[49m\u001b[43mradius\u001b[49m\u001b[38;5;241;43m=\u001b[39;49m\u001b[38;5;124;43m\"\u001b[39;49m\u001b[38;5;124;43m0.5\u001b[39;49m\u001b[38;5;124;43m\"\u001b[39;49m\u001b[43m,\u001b[49m\u001b[43m \u001b[49m\u001b[43mcatalog\u001b[49m\u001b[38;5;241;43m=\u001b[39;49m\u001b[38;5;124;43m\"\u001b[39;49m\u001b[38;5;124;43mJ/ApJ/799/92/table1\u001b[39;49m\u001b[38;5;124;43m\"\u001b[39;49m\u001b[43m)\u001b[49m\n\u001b[0;32m      9\u001b[0m \u001b[38;5;66;03m# View the results (this is a sample catalog query)\u001b[39;00m\n\u001b[0;32m     10\u001b[0m \u001b[38;5;28mprint\u001b[39m(result)\n",
      "File \u001b[1;32mc:\\Users\\jimmy\\AppData\\Local\\Programs\\Python\\Python311\\Lib\\site-packages\\astroquery\\utils\\class_or_instance.py:25\u001b[0m, in \u001b[0;36mclass_or_instance.__get__.<locals>.f\u001b[1;34m(*args, **kwds)\u001b[0m\n\u001b[0;32m     23\u001b[0m \u001b[38;5;28;01mdef\u001b[39;00m \u001b[38;5;21mf\u001b[39m(\u001b[38;5;241m*\u001b[39margs, \u001b[38;5;241m*\u001b[39m\u001b[38;5;241m*\u001b[39mkwds):\n\u001b[0;32m     24\u001b[0m     \u001b[38;5;28;01mif\u001b[39;00m obj \u001b[38;5;129;01mis\u001b[39;00m \u001b[38;5;129;01mnot\u001b[39;00m \u001b[38;5;28;01mNone\u001b[39;00m:\n\u001b[1;32m---> 25\u001b[0m         \u001b[38;5;28;01mreturn\u001b[39;00m \u001b[38;5;28;43mself\u001b[39;49m\u001b[38;5;241;43m.\u001b[39;49m\u001b[43mfn\u001b[49m\u001b[43m(\u001b[49m\u001b[43mobj\u001b[49m\u001b[43m,\u001b[49m\u001b[43m \u001b[49m\u001b[38;5;241;43m*\u001b[39;49m\u001b[43margs\u001b[49m\u001b[43m,\u001b[49m\u001b[43m \u001b[49m\u001b[38;5;241;43m*\u001b[39;49m\u001b[38;5;241;43m*\u001b[39;49m\u001b[43mkwds\u001b[49m\u001b[43m)\u001b[49m\n\u001b[0;32m     26\u001b[0m     \u001b[38;5;28;01melse\u001b[39;00m:\n\u001b[0;32m     27\u001b[0m         \u001b[38;5;28;01mreturn\u001b[39;00m \u001b[38;5;28mself\u001b[39m\u001b[38;5;241m.\u001b[39mfn(\u001b[38;5;28mcls\u001b[39m, \u001b[38;5;241m*\u001b[39margs, \u001b[38;5;241m*\u001b[39m\u001b[38;5;241m*\u001b[39mkwds)\n",
      "File \u001b[1;32mc:\\Users\\jimmy\\AppData\\Local\\Programs\\Python\\Python311\\Lib\\site-packages\\astroquery\\utils\\process_asyncs.py:26\u001b[0m, in \u001b[0;36masync_to_sync.<locals>.create_method.<locals>.newmethod\u001b[1;34m(self, *args, **kwargs)\u001b[0m\n\u001b[0;32m     22\u001b[0m \u001b[38;5;129m@class_or_instance\u001b[39m\n\u001b[0;32m     23\u001b[0m \u001b[38;5;28;01mdef\u001b[39;00m \u001b[38;5;21mnewmethod\u001b[39m(\u001b[38;5;28mself\u001b[39m, \u001b[38;5;241m*\u001b[39margs, \u001b[38;5;241m*\u001b[39m\u001b[38;5;241m*\u001b[39mkwargs):\n\u001b[0;32m     24\u001b[0m     verbose \u001b[38;5;241m=\u001b[39m kwargs\u001b[38;5;241m.\u001b[39mpop(\u001b[38;5;124m'\u001b[39m\u001b[38;5;124mverbose\u001b[39m\u001b[38;5;124m'\u001b[39m, \u001b[38;5;28;01mFalse\u001b[39;00m)\n\u001b[1;32m---> 26\u001b[0m     response \u001b[38;5;241m=\u001b[39m \u001b[38;5;28;43mgetattr\u001b[39;49m\u001b[43m(\u001b[49m\u001b[38;5;28;43mself\u001b[39;49m\u001b[43m,\u001b[49m\u001b[43m \u001b[49m\u001b[43masync_method_name\u001b[49m\u001b[43m)\u001b[49m\u001b[43m(\u001b[49m\u001b[38;5;241;43m*\u001b[39;49m\u001b[43margs\u001b[49m\u001b[43m,\u001b[49m\u001b[43m \u001b[49m\u001b[38;5;241;43m*\u001b[39;49m\u001b[38;5;241;43m*\u001b[39;49m\u001b[43mkwargs\u001b[49m\u001b[43m)\u001b[49m\n\u001b[0;32m     27\u001b[0m     \u001b[38;5;28;01mif\u001b[39;00m kwargs\u001b[38;5;241m.\u001b[39mget(\u001b[38;5;124m'\u001b[39m\u001b[38;5;124mget_query_payload\u001b[39m\u001b[38;5;124m'\u001b[39m) \u001b[38;5;129;01mor\u001b[39;00m kwargs\u001b[38;5;241m.\u001b[39mget(\u001b[38;5;124m'\u001b[39m\u001b[38;5;124mfield_help\u001b[39m\u001b[38;5;124m'\u001b[39m):\n\u001b[0;32m     28\u001b[0m         \u001b[38;5;28;01mreturn\u001b[39;00m response\n",
      "File \u001b[1;32mc:\\Users\\jimmy\\AppData\\Local\\Programs\\Python\\Python311\\Lib\\site-packages\\astroquery\\vizier\\core.py:516\u001b[0m, in \u001b[0;36mVizierClass.query_region_async\u001b[1;34m(self, coordinates, radius, inner_radius, width, height, catalog, get_query_payload, cache, return_type, column_filters, frame)\u001b[0m\n\u001b[0;32m    514\u001b[0m \u001b[38;5;28;01mif\u001b[39;00m radius \u001b[38;5;129;01mis\u001b[39;00m \u001b[38;5;129;01mnot\u001b[39;00m \u001b[38;5;28;01mNone\u001b[39;00m:\n\u001b[0;32m    515\u001b[0m     \u001b[38;5;28;01mif\u001b[39;00m inner_radius \u001b[38;5;129;01mis\u001b[39;00m \u001b[38;5;28;01mNone\u001b[39;00m:\n\u001b[1;32m--> 516\u001b[0m         _, unit_str, o_radius \u001b[38;5;241m=\u001b[39m \u001b[43m_parse_angle\u001b[49m\u001b[43m(\u001b[49m\u001b[43mradius\u001b[49m\u001b[43m)\u001b[49m\n\u001b[0;32m    517\u001b[0m         center[\u001b[38;5;124m\"\u001b[39m\u001b[38;5;124m-c.r\u001b[39m\u001b[38;5;124m\"\u001b[39m \u001b[38;5;241m+\u001b[39m unit_str] \u001b[38;5;241m=\u001b[39m \u001b[38;5;28mstr\u001b[39m(o_radius)\n\u001b[0;32m    518\u001b[0m     \u001b[38;5;28;01melse\u001b[39;00m:\n",
      "File \u001b[1;32mc:\\Users\\jimmy\\AppData\\Local\\Programs\\Python\\Python311\\Lib\\site-packages\\astroquery\\vizier\\core.py:866\u001b[0m, in \u001b[0;36m_parse_angle\u001b[1;34m(angle)\u001b[0m\n\u001b[0;32m    853\u001b[0m \u001b[38;5;28;01mdef\u001b[39;00m \u001b[38;5;21m_parse_angle\u001b[39m(angle):\n\u001b[0;32m    854\u001b[0m \u001b[38;5;250m    \u001b[39m\u001b[38;5;124;03m\"\"\"\u001b[39;00m\n\u001b[0;32m    855\u001b[0m \u001b[38;5;124;03m    Returns the Vizier-formatted units and values for box/radius\u001b[39;00m\n\u001b[0;32m    856\u001b[0m \u001b[38;5;124;03m    dimensions in case of region queries.\u001b[39;00m\n\u001b[1;32m   (...)\u001b[0m\n\u001b[0;32m    864\u001b[0m \u001b[38;5;124;03m    (unit, unit_str, value) : tuple\u001b[39;00m\n\u001b[0;32m    865\u001b[0m \u001b[38;5;124;03m    \"\"\"\u001b[39;00m\n\u001b[1;32m--> 866\u001b[0m     angle \u001b[38;5;241m=\u001b[39m \u001b[43mcoord\u001b[49m\u001b[38;5;241;43m.\u001b[39;49m\u001b[43mAngle\u001b[49m\u001b[43m(\u001b[49m\u001b[43mangle\u001b[49m\u001b[43m)\u001b[49m\n\u001b[0;32m    867\u001b[0m     \u001b[38;5;28;01mif\u001b[39;00m angle\u001b[38;5;241m.\u001b[39munit \u001b[38;5;129;01mis\u001b[39;00m u\u001b[38;5;241m.\u001b[39marcsec:\n\u001b[0;32m    868\u001b[0m         \u001b[38;5;28;01mreturn\u001b[39;00m u\u001b[38;5;241m.\u001b[39marcsec, \u001b[38;5;124m\"\u001b[39m\u001b[38;5;124ms\u001b[39m\u001b[38;5;124m\"\u001b[39m, angle\u001b[38;5;241m.\u001b[39mvalue\n",
      "File \u001b[1;32mc:\\Users\\jimmy\\AppData\\Local\\Programs\\Python\\Python311\\Lib\\site-packages\\astropy\\coordinates\\angles\\core.py:164\u001b[0m, in \u001b[0;36mAngle.__new__\u001b[1;34m(cls, angle, unit, dtype, copy, **kwargs)\u001b[0m\n\u001b[0;32m    155\u001b[0m     \u001b[38;5;28;01mraise\u001b[39;00m \u001b[38;5;167;01mTypeError\u001b[39;00m(\n\u001b[0;32m    156\u001b[0m         \u001b[38;5;124m\"\u001b[39m\u001b[38;5;124mCreating an Angle with a tuple of degrees (or hours), minutes, and seconds \u001b[39m\u001b[38;5;124m\"\u001b[39m\n\u001b[0;32m    157\u001b[0m         \u001b[38;5;124m\"\u001b[39m\u001b[38;5;124mis no longer supported, as it has ambiguous behavior when the degree \u001b[39m\u001b[38;5;124m\"\u001b[39m\n\u001b[1;32m   (...)\u001b[0m\n\u001b[0;32m    160\u001b[0m         \u001b[38;5;124m\"\u001b[39m\u001b[38;5;124mwill be interpreted simply as a sequence with the given unit.\u001b[39m\u001b[38;5;124m\"\u001b[39m\n\u001b[0;32m    161\u001b[0m     )\n\u001b[0;32m    163\u001b[0m \u001b[38;5;28;01mif\u001b[39;00m \u001b[38;5;28misinstance\u001b[39m(angle, \u001b[38;5;28mstr\u001b[39m):\n\u001b[1;32m--> 164\u001b[0m     angle, angle_unit \u001b[38;5;241m=\u001b[39m \u001b[43mformats\u001b[49m\u001b[38;5;241;43m.\u001b[39;49m\u001b[43mparse_angle\u001b[49m\u001b[43m(\u001b[49m\u001b[43mangle\u001b[49m\u001b[43m,\u001b[49m\u001b[43m \u001b[49m\u001b[43munit\u001b[49m\u001b[43m)\u001b[49m\n\u001b[0;32m    165\u001b[0m     \u001b[38;5;28;01mif\u001b[39;00m angle_unit \u001b[38;5;129;01mis\u001b[39;00m \u001b[38;5;28;01mNone\u001b[39;00m:\n\u001b[0;32m    166\u001b[0m         angle_unit \u001b[38;5;241m=\u001b[39m unit\n",
      "File \u001b[1;32mc:\\Users\\jimmy\\AppData\\Local\\Programs\\Python\\Python311\\Lib\\site-packages\\astropy\\coordinates\\angles\\formats.py:358\u001b[0m, in \u001b[0;36mparse_angle\u001b[1;34m(angle, unit, debug)\u001b[0m\n\u001b[0;32m    327\u001b[0m \u001b[38;5;28;01mdef\u001b[39;00m \u001b[38;5;21mparse_angle\u001b[39m(angle, unit\u001b[38;5;241m=\u001b[39m\u001b[38;5;28;01mNone\u001b[39;00m, debug\u001b[38;5;241m=\u001b[39m\u001b[38;5;28;01mFalse\u001b[39;00m):\n\u001b[0;32m    328\u001b[0m \u001b[38;5;250m    \u001b[39m\u001b[38;5;124;03m\"\"\"\u001b[39;00m\n\u001b[0;32m    329\u001b[0m \u001b[38;5;124;03m    Parses an input string value into an angle value.\u001b[39;00m\n\u001b[0;32m    330\u001b[0m \n\u001b[1;32m   (...)\u001b[0m\n\u001b[0;32m    356\u001b[0m \u001b[38;5;124;03m        string.\u001b[39;00m\n\u001b[0;32m    357\u001b[0m \u001b[38;5;124;03m    \"\"\"\u001b[39;00m\n\u001b[1;32m--> 358\u001b[0m     \u001b[38;5;28;01mreturn\u001b[39;00m \u001b[43m_AngleParser\u001b[49m\u001b[43m(\u001b[49m\u001b[43m)\u001b[49m\u001b[38;5;241;43m.\u001b[39;49m\u001b[43mparse\u001b[49m\u001b[43m(\u001b[49m\u001b[43mangle\u001b[49m\u001b[43m,\u001b[49m\u001b[43m \u001b[49m\u001b[43munit\u001b[49m\u001b[43m,\u001b[49m\u001b[43m \u001b[49m\u001b[43mdebug\u001b[49m\u001b[38;5;241;43m=\u001b[39;49m\u001b[43mdebug\u001b[49m\u001b[43m)\u001b[49m\n",
      "File \u001b[1;32mc:\\Users\\jimmy\\AppData\\Local\\Programs\\Python\\Python311\\Lib\\site-packages\\astropy\\coordinates\\angles\\formats.py:289\u001b[0m, in \u001b[0;36m_AngleParser.parse\u001b[1;34m(self, angle, unit, debug)\u001b[0m\n\u001b[0;32m    284\u001b[0m     \u001b[38;5;28;01mraise\u001b[39;00m \u001b[38;5;167;01mValueError\u001b[39;00m(\n\u001b[0;32m    285\u001b[0m         \u001b[38;5;124mf\u001b[39m\u001b[38;5;124m\"\u001b[39m\u001b[38;5;132;01m{\u001b[39;00m\u001b[38;5;28mstr\u001b[39m(e)\u001b[38;5;250m \u001b[39m\u001b[38;5;129;01mor\u001b[39;00m\u001b[38;5;250m \u001b[39m\u001b[38;5;124m'\u001b[39m\u001b[38;5;124msyntax error\u001b[39m\u001b[38;5;124m'\u001b[39m\u001b[38;5;132;01m}\u001b[39;00m\u001b[38;5;124m parsing angle \u001b[39m\u001b[38;5;132;01m{\u001b[39;00mangle\u001b[38;5;132;01m!r}\u001b[39;00m\u001b[38;5;124m\"\u001b[39m\n\u001b[0;32m    286\u001b[0m     ) \u001b[38;5;28;01mfrom\u001b[39;00m \u001b[38;5;21;01me\u001b[39;00m\n\u001b[0;32m    288\u001b[0m \u001b[38;5;28;01mif\u001b[39;00m unit \u001b[38;5;129;01mis\u001b[39;00m \u001b[38;5;28;01mNone\u001b[39;00m \u001b[38;5;129;01mand\u001b[39;00m found_unit \u001b[38;5;129;01mis\u001b[39;00m \u001b[38;5;28;01mNone\u001b[39;00m:\n\u001b[1;32m--> 289\u001b[0m     \u001b[38;5;28;01mraise\u001b[39;00m u\u001b[38;5;241m.\u001b[39mUnitsError(\u001b[38;5;124m\"\u001b[39m\u001b[38;5;124mNo unit specified\u001b[39m\u001b[38;5;124m\"\u001b[39m)\n\u001b[0;32m    291\u001b[0m \u001b[38;5;28;01mreturn\u001b[39;00m found_angle, found_unit\n",
      "\u001b[1;31mUnitsError\u001b[0m: No unit specified"
     ]
    }
   ],
   "source": [
    "from astroquery.vizier import Vizier\n",
    "\n",
    "viz = Vizier(columns=[\"RAJ2000\", \"DEJ2000\", \"ID\", \"z\", \"flux\", \"fluxErr\"])\n",
    "\n",
    "result = viz.query_region(\"20h36m02.00s +15d10m00.00s\", radius=\"0.5\", catalog=\"J/ApJ/799/92/table1\")\n",
    "\n",
    "print(result)\n"
   ]
  }
 ],
 "metadata": {
  "kernelspec": {
   "display_name": "Python 3",
   "language": "python",
   "name": "python3"
  },
  "language_info": {
   "codemirror_mode": {
    "name": "ipython",
    "version": 3
   },
   "file_extension": ".py",
   "mimetype": "text/x-python",
   "name": "python",
   "nbconvert_exporter": "python",
   "pygments_lexer": "ipython3",
   "version": "3.11.0"
  }
 },
 "nbformat": 4,
 "nbformat_minor": 2
}
