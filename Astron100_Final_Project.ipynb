{
 "cells": [
  {
   "cell_type": "code",
   "execution_count": 1,
   "metadata": {},
   "outputs": [
    {
     "name": "stdout",
     "output_type": "stream",
     "text": [
      "Requirement already satisfied: astropy in c:\\users\\jimmy\\appdata\\local\\programs\\python\\python311\\lib\\site-packages (7.0.0)\n",
      "Collecting astropy\n",
      "  Downloading astropy-7.0.1-cp311-cp311-win_amd64.whl.metadata (10 kB)\n",
      "Requirement already satisfied: numpy>=1.23.2 in c:\\users\\jimmy\\appdata\\local\\programs\\python\\python311\\lib\\site-packages (from astropy) (1.24.2)\n",
      "Requirement already satisfied: pyerfa>=2.0.1.1 in c:\\users\\jimmy\\appdata\\local\\programs\\python\\python311\\lib\\site-packages (from astropy) (2.0.1.4)\n",
      "Collecting astropy-iers-data>=0.2025.1.31.12.41.4 (from astropy)\n",
      "  Downloading astropy_iers_data-0.2025.3.24.0.35.32-py3-none-any.whl.metadata (5.1 kB)\n",
      "Requirement already satisfied: PyYAML>=6.0.0 in c:\\users\\jimmy\\appdata\\local\\programs\\python\\python311\\lib\\site-packages (from astropy) (6.0.1)\n",
      "Requirement already satisfied: packaging>=22.0.0 in c:\\users\\jimmy\\appdata\\roaming\\python\\python311\\site-packages (from astropy) (23.2)\n",
      "Downloading astropy-7.0.1-cp311-cp311-win_amd64.whl (6.5 MB)\n",
      "   ---------------------------------------- 0.0/6.5 MB ? eta -:--:--\n",
      "   ----------- ---------------------------- 1.8/6.5 MB 9.1 MB/s eta 0:00:01\n",
      "   --------------------------- ------------ 4.5/6.5 MB 10.7 MB/s eta 0:00:01\n",
      "   -------------------------------------- - 6.3/6.5 MB 11.0 MB/s eta 0:00:01\n",
      "   ---------------------------------------- 6.5/6.5 MB 10.2 MB/s eta 0:00:00\n",
      "Downloading astropy_iers_data-0.2025.3.24.0.35.32-py3-none-any.whl (1.9 MB)\n",
      "   ---------------------------------------- 0.0/1.9 MB ? eta -:--:--\n",
      "   -------------------------- ------------- 1.3/1.9 MB 11.2 MB/s eta 0:00:01\n",
      "   ---------------------------------------- 1.9/1.9 MB 5.1 MB/s eta 0:00:00\n",
      "Installing collected packages: astropy-iers-data, astropy\n",
      "  Attempting uninstall: astropy-iers-data\n",
      "    Found existing installation: astropy-iers-data 0.2024.4.15.2.45.49\n",
      "    Uninstalling astropy-iers-data-0.2024.4.15.2.45.49:\n",
      "      Successfully uninstalled astropy-iers-data-0.2024.4.15.2.45.49\n",
      "  Attempting uninstall: astropy\n",
      "    Found existing installation: astropy 7.0.0\n",
      "    Uninstalling astropy-7.0.0:\n",
      "      Successfully uninstalled astropy-7.0.0\n",
      "Successfully installed astropy-7.0.1 astropy-iers-data-0.2025.3.24.0.35.32\n"
     ]
    },
    {
     "name": "stderr",
     "output_type": "stream",
     "text": [
      "\n",
      "[notice] A new release of pip is available: 24.3.1 -> 25.0.1\n",
      "[notice] To update, run: python.exe -m pip install --upgrade pip\n"
     ]
    },
    {
     "name": "stdout",
     "output_type": "stream",
     "text": [
      "Collecting photutils\n",
      "  Downloading photutils-2.2.0-cp311-cp311-win_amd64.whl.metadata (7.1 kB)\n",
      "Requirement already satisfied: numpy>=1.24 in c:\\users\\jimmy\\appdata\\local\\programs\\python\\python311\\lib\\site-packages (from photutils) (1.24.2)\n",
      "Requirement already satisfied: astropy>=5.3 in c:\\users\\jimmy\\appdata\\local\\programs\\python\\python311\\lib\\site-packages (from photutils) (7.0.1)\n",
      "Requirement already satisfied: scipy>=1.10 in c:\\users\\jimmy\\appdata\\local\\programs\\python\\python311\\lib\\site-packages (from photutils) (1.14.1)\n",
      "Requirement already satisfied: pyerfa>=2.0.1.1 in c:\\users\\jimmy\\appdata\\local\\programs\\python\\python311\\lib\\site-packages (from astropy>=5.3->photutils) (2.0.1.4)\n",
      "Requirement already satisfied: astropy-iers-data>=0.2025.1.31.12.41.4 in c:\\users\\jimmy\\appdata\\local\\programs\\python\\python311\\lib\\site-packages (from astropy>=5.3->photutils) (0.2025.3.24.0.35.32)\n",
      "Requirement already satisfied: PyYAML>=6.0.0 in c:\\users\\jimmy\\appdata\\local\\programs\\python\\python311\\lib\\site-packages (from astropy>=5.3->photutils) (6.0.1)\n",
      "Requirement already satisfied: packaging>=22.0.0 in c:\\users\\jimmy\\appdata\\roaming\\python\\python311\\site-packages (from astropy>=5.3->photutils) (23.2)\n",
      "Downloading photutils-2.2.0-cp311-cp311-win_amd64.whl (756 kB)\n",
      "   ---------------------------------------- 0.0/756.2 kB ? eta -:--:--\n",
      "   ---------------------------------------- 756.2/756.2 kB 6.3 MB/s eta 0:00:00\n",
      "Installing collected packages: photutils\n",
      "Successfully installed photutils-2.2.0\n"
     ]
    },
    {
     "name": "stderr",
     "output_type": "stream",
     "text": [
      "\n",
      "[notice] A new release of pip is available: 24.3.1 -> 25.0.1\n",
      "[notice] To update, run: python.exe -m pip install --upgrade pip\n"
     ]
    }
   ],
   "source": [
    "!pip install astropy --upgrade\n",
    "!pip install photutils\n",
    "\n",
    "import numpy as np\n",
    "import math\n",
    "import matplotlib.pyplot as plt\n",
    "import os\n",
    "from astropy.io import fits\n",
    "from astropy.stats import sigma_clipped_stats\n",
    "import glob\n",
    "import warnings\n",
    "warnings.filterwarnings(\"ignore\")\n",
    "from matplotlib.gridspec import GridSpec"
   ]
  },
  {
   "cell_type": "code",
   "execution_count": null,
   "metadata": {},
   "outputs": [],
   "source": []
  }
 ],
 "metadata": {
  "kernelspec": {
   "display_name": "Python 3",
   "language": "python",
   "name": "python3"
  },
  "language_info": {
   "codemirror_mode": {
    "name": "ipython",
    "version": 3
   },
   "file_extension": ".py",
   "mimetype": "text/x-python",
   "name": "python",
   "nbconvert_exporter": "python",
   "pygments_lexer": "ipython3",
   "version": "3.11.0"
  }
 },
 "nbformat": 4,
 "nbformat_minor": 2
}
